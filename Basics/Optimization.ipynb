{
 "cells": [
  {
   "cell_type": "code",
   "execution_count": 1,
   "metadata": {},
   "outputs": [
    {
     "data": {
      "text/html": [
       "<div>\n",
       "<style scoped>\n",
       "    .dataframe tbody tr th:only-of-type {\n",
       "        vertical-align: middle;\n",
       "    }\n",
       "\n",
       "    .dataframe tbody tr th {\n",
       "        vertical-align: top;\n",
       "    }\n",
       "\n",
       "    .dataframe thead th {\n",
       "        text-align: right;\n",
       "    }\n",
       "</style>\n",
       "<table border=\"1\" class=\"dataframe\">\n",
       "  <thead>\n",
       "    <tr style=\"text-align: right;\">\n",
       "      <th></th>\n",
       "      <th>sepal length (cm)</th>\n",
       "      <th>sepal width (cm)</th>\n",
       "      <th>petal length (cm)</th>\n",
       "      <th>petal width (cm)</th>\n",
       "      <th>target</th>\n",
       "    </tr>\n",
       "  </thead>\n",
       "  <tbody>\n",
       "    <tr>\n",
       "      <th>0</th>\n",
       "      <td>5.1</td>\n",
       "      <td>3.5</td>\n",
       "      <td>1.4</td>\n",
       "      <td>0.2</td>\n",
       "      <td>0</td>\n",
       "    </tr>\n",
       "    <tr>\n",
       "      <th>1</th>\n",
       "      <td>4.9</td>\n",
       "      <td>3.0</td>\n",
       "      <td>1.4</td>\n",
       "      <td>0.2</td>\n",
       "      <td>0</td>\n",
       "    </tr>\n",
       "    <tr>\n",
       "      <th>2</th>\n",
       "      <td>4.7</td>\n",
       "      <td>3.2</td>\n",
       "      <td>1.3</td>\n",
       "      <td>0.2</td>\n",
       "      <td>0</td>\n",
       "    </tr>\n",
       "    <tr>\n",
       "      <th>3</th>\n",
       "      <td>4.6</td>\n",
       "      <td>3.1</td>\n",
       "      <td>1.5</td>\n",
       "      <td>0.2</td>\n",
       "      <td>0</td>\n",
       "    </tr>\n",
       "    <tr>\n",
       "      <th>4</th>\n",
       "      <td>5.0</td>\n",
       "      <td>3.6</td>\n",
       "      <td>1.4</td>\n",
       "      <td>0.2</td>\n",
       "      <td>0</td>\n",
       "    </tr>\n",
       "  </tbody>\n",
       "</table>\n",
       "</div>"
      ],
      "text/plain": [
       "   sepal length (cm)  sepal width (cm)  petal length (cm)  petal width (cm)  \\\n",
       "0                5.1               3.5                1.4               0.2   \n",
       "1                4.9               3.0                1.4               0.2   \n",
       "2                4.7               3.2                1.3               0.2   \n",
       "3                4.6               3.1                1.5               0.2   \n",
       "4                5.0               3.6                1.4               0.2   \n",
       "\n",
       "   target  \n",
       "0       0  \n",
       "1       0  \n",
       "2       0  \n",
       "3       0  \n",
       "4       0  "
      ]
     },
     "execution_count": 1,
     "metadata": {},
     "output_type": "execute_result"
    }
   ],
   "source": [
    "from sklearn.datasets import load_iris\n",
    "import pandas as pd\n",
    "\n",
    "#Cargar el conjunto de datos Iris\n",
    "iris = load_iris()\n",
    "iris_df = pd.DataFrame(data=iris['data'],columns=iris['feature_names'])\n",
    "iris_df['target'] = iris['target']\n",
    "\n",
    "#Mostrar las primeras filas del conjunto de datos\n",
    "iris_df.head()"
   ]
  },
  {
   "cell_type": "code",
   "execution_count": 5,
   "metadata": {},
   "outputs": [
    {
     "data": {
      "text/plain": [
       "{'C': 1.0,\n",
       " 'break_ties': False,\n",
       " 'cache_size': 200,\n",
       " 'class_weight': None,\n",
       " 'coef0': 0.0,\n",
       " 'decision_function_shape': 'ovr',\n",
       " 'degree': 3,\n",
       " 'gamma': 'scale',\n",
       " 'kernel': 'rbf',\n",
       " 'max_iter': -1,\n",
       " 'probability': False,\n",
       " 'random_state': None,\n",
       " 'shrinking': True,\n",
       " 'tol': 0.001,\n",
       " 'verbose': False}"
      ]
     },
     "execution_count": 5,
     "metadata": {},
     "output_type": "execute_result"
    }
   ],
   "source": [
    "#Super Vector Machine\n",
    "from sklearn.model_selection import train_test_split\n",
    "from sklearn.svm import SVC\n",
    "\n",
    "#Dividir el conjunto de datos en entrenamiento y prueba\n",
    "x = iris_df.drop('target',axis=1)\n",
    "y = iris_df['target']\n",
    "x_train,x_test,y_train,y_test = train_test_split(x,y,test_size=0.2,random_state=42)\n",
    "\n",
    "#Definir el modelo SVC\n",
    "svm_model = SVC()\n",
    "\n",
    "#Mostrar los hiperparámetros por defecto del modelo\n",
    "svm_model.get_params()"
   ]
  },
  {
   "cell_type": "markdown",
   "metadata": {},
   "source": [
    "GridSearch"
   ]
  },
  {
   "cell_type": "code",
   "execution_count": 18,
   "metadata": {},
   "outputs": [
    {
     "data": {
      "text/plain": [
       "{'C': 1, 'gamma': 'scale', 'kernel': 'linear'}"
      ]
     },
     "execution_count": 18,
     "metadata": {},
     "output_type": "execute_result"
    }
   ],
   "source": [
    "from sklearn.model_selection import GridSearchCV\n",
    "\n",
    "#Definir la cuadrícula de hiperparámetros\n",
    "param_grid = {\n",
    "   'C' : [0.1, 1, 10, 100],\n",
    "   'kernel' : ['linear', 'rbf'],\n",
    "   'gamma' : ['scale', 'auto']\n",
    "}\n",
    "\n",
    "#Crear el objeto GridSearchCV\n",
    "grid_search = GridSearchCV(estimator=svm_model, param_grid=param_grid, cv=5)\n",
    "\n",
    "#Ajustar el modelo utilizando la búsqueda en grid\n",
    "grid_search.fit(x_train, y_train)\n",
    "\n",
    "#Obtener los mejores hiperparámetros encontrados\n",
    "best_params_grid_search = grid_search.best_params_\n",
    "best_params_grid_search"
   ]
  },
  {
   "cell_type": "markdown",
   "metadata": {},
   "source": [
    "RandomSearch"
   ]
  },
  {
   "cell_type": "code",
   "execution_count": 17,
   "metadata": {},
   "outputs": [
    {
     "data": {
      "text/plain": [
       "{'C': 3.5388521115218396, 'gamma': 'auto', 'kernel': 'linear'}"
      ]
     },
     "execution_count": 17,
     "metadata": {},
     "output_type": "execute_result"
    }
   ],
   "source": [
    "from sklearn.model_selection import RandomizedSearchCV\n",
    "from scipy.stats import uniform, randint\n",
    "\n",
    "#Definir la distribución de hiperparámetros\n",
    "param_dist = {\n",
    "   'C' : uniform(0.1,100),\n",
    "   'kernel' : ['linear', 'rbf'],\n",
    "   'gamma' : ['scale', 'auto']\n",
    "}\n",
    "\n",
    "#Crear el objeto RandomizedSearchCV\n",
    "random_search = RandomizedSearchCV(estimator=svm_model, param_distributions=param_dist, n_iter=100, cv=5, random_state=42)\n",
    "\n",
    "#Ajustar el modelo utilizando la búsqueda aleatoria\n",
    "random_search.fit(x_train, y_train)\n",
    "\n",
    "#Obtener los mejores hiperparámetros encontrados\n",
    "best_params_random_search = random_search.best_params_\n",
    "best_params_random_search"
   ]
  },
  {
   "cell_type": "markdown",
   "metadata": {},
   "source": [
    "Optimización Bayesiana"
   ]
  },
  {
   "cell_type": "code",
   "execution_count": 23,
   "metadata": {},
   "outputs": [
    {
     "name": "stderr",
     "output_type": "stream",
     "text": [
      "c:\\Python311\\Lib\\site-packages\\skopt\\optimizer\\optimizer.py:449: UserWarning: The objective has been evaluated at this point before.\n",
      "  warnings.warn(\"The objective has been evaluated \"\n"
     ]
    },
    {
     "data": {
      "text/plain": [
       "OrderedDict([('C', 4.203202942211093),\n",
       "             ('gamma', 'scale'),\n",
       "             ('kernel', 'linear')])"
      ]
     },
     "execution_count": 23,
     "metadata": {},
     "output_type": "execute_result"
    }
   ],
   "source": [
    "from skopt import BayesSearchCV\n",
    "\n",
    "#Definir un espacio de búsqueda reducido para la optimización bayesiana\n",
    "param_space_reduced = {\n",
    "   'C' : (0.1,5),\n",
    "   'kernel' : ['linear', 'rbf'],\n",
    "   'gamma' : ['scale', 'auto']\n",
    "}\n",
    "\n",
    "#Crear el objeto BayesSearchCV con un número reducido de iteraciones\n",
    "bayes_search_reduced = BayesSearchCV(estimator=svm_model, search_spaces=param_space_reduced, n_iter=25, cv=5, random_state=42)\n",
    "\n",
    "#Ajustar el modelo utilizando la optimización bayesiana con el espacio de búsqueda reducido\n",
    "bayes_search_reduced.fit(x_train, y_train)\n",
    "\n",
    "#Obtener los mejores hiperparámetros encontrados\n",
    "best_params_bayes_search = bayes_search_reduced.best_params_\n",
    "best_params_bayes_search"
   ]
  },
  {
   "cell_type": "markdown",
   "metadata": {},
   "source": [
    "Evaluación de Modelos con el cambio de los hiperparámetros"
   ]
  },
  {
   "cell_type": "code",
   "execution_count": 24,
   "metadata": {},
   "outputs": [
    {
     "data": {
      "text/plain": [
       "(1.0, 0.9666666666666667, 0.9666666666666667)"
      ]
     },
     "execution_count": 24,
     "metadata": {},
     "output_type": "execute_result"
    }
   ],
   "source": [
    "from sklearn.metrics import accuracy_score\n",
    "\n",
    "#Evaluar el modelo obtenido con la búsqueda en Grid\n",
    "grid_search_model = grid_search.best_estimator_\n",
    "grid_search_predictions = grid_search_model.predict(x_test)\n",
    "grid_search_accuracy = accuracy_score(y_test, grid_search_predictions)\n",
    "\n",
    "#Evaluar el modelo obtenido con la búsqueda aleatoria\n",
    "random_search_model = random_search.best_estimator_\n",
    "random_search_predictions = random_search_model.predict(x_test)\n",
    "random_search_accuracy = accuracy_score(y_test, random_search_predictions)\n",
    "\n",
    "#Evaluar el modelo obtenido con la optimización bayesiana\n",
    "bayes_search_model = bayes_search_reduced.best_estimator_\n",
    "bayes_search_predictions = bayes_search_model.predict(x_test)\n",
    "bayes_search_accuracy = accuracy_score(y_test, bayes_search_predictions)\n",
    "\n",
    "grid_search_accuracy, random_search_accuracy, bayes_search_accuracy"
   ]
  },
  {
   "cell_type": "code",
   "execution_count": 21,
   "metadata": {},
   "outputs": [
    {
     "data": {
      "text/plain": [
       "(0.9800000000000001, 0.016329931618554516)"
      ]
     },
     "execution_count": 21,
     "metadata": {},
     "output_type": "execute_result"
    }
   ],
   "source": [
    "from sklearn.model_selection import cross_val_score\n",
    "\n",
    "#Utilizar el mejor modelo encontrado por la búsqueda Grid\n",
    "best_model = grid_search.best_estimator_\n",
    "\n",
    "#Realizar una validación cruzada de 5 pliegues en el conjunto de datos completo (x,y)\n",
    "cv_scores = cross_val_score(best_model, x, y, cv=5)\n",
    "\n",
    "#Calcular la media y la desviación estándar de los puntajes de validación cruzada\n",
    "cv_mean = cv_scores.mean()\n",
    "cv_std = cv_scores.std()\n",
    "\n",
    "cv_mean, cv_std"
   ]
  },
  {
   "cell_type": "code",
   "execution_count": 25,
   "metadata": {},
   "outputs": [],
   "source": [
    "#Utilizar el mejor modelo encontrado por la búsqueda aleatoria\n",
    "best_model_random_search = random_search.best_estimator_\n",
    "\n",
    "#Utilizar el mejor modelo encontrado por la optimización bayesiana\n",
    "best_model_bayes_search = bayes_search_reduced.best_estimator_\n",
    "\n",
    "#Realizar una validación cruzada de 5 pliegues en el conjunto de datos completo (x,y)\n",
    "cv_scores_grid_search = cross_val_score(best_model, x, y, cv=5)\n",
    "cv_scores_random_search = cross_val_score(best_model_random_search, x, y, cv=5)\n",
    "cv_scores_bayes_search = cross_val_score(best_model_bayes_search, x, y, cv=5)"
   ]
  },
  {
   "cell_type": "code",
   "execution_count": 26,
   "metadata": {},
   "outputs": [],
   "source": [
    "#Calcular la media y la desviación estándar de los puntajes de validación cruzada\n",
    "cv_mean_grid_search, cv_std_grid_search = cv_scores_grid_search.mean(), cv_scores_grid_search.std()\n",
    "cv_mean_random_search, cv_std_random_search = cv_scores_random_search.mean(), cv_scores_random_search.std()\n",
    "cv_mean_bayes_search, cv_std_bayes_search = cv_scores_bayes_search.mean(), cv_scores_bayes_search.std()"
   ]
  },
  {
   "cell_type": "code",
   "execution_count": 27,
   "metadata": {},
   "outputs": [
    {
     "name": "stdout",
     "output_type": "stream",
     "text": [
      "Bayes --> mean = 0.9800000000000001 ; std = 0.016329931618554516\n",
      "Random --> mean = 0.9733333333333334 ; std = 0.02494438257849294\n",
      "Bayes --> mean = 0.9733333333333334 ; std = 0.02494438257849294\n"
     ]
    }
   ],
   "source": [
    "#Imprimir resultados\n",
    "print(f'Bayes --> mean = {cv_mean_grid_search} ; std = {cv_std_grid_search}')\n",
    "print(f'Random --> mean = {cv_mean_random_search} ; std = {cv_std_random_search}')\n",
    "print(f'Bayes --> mean = {cv_mean_bayes_search} ; std = {cv_std_bayes_search}')"
   ]
  }
 ],
 "metadata": {
  "kernelspec": {
   "display_name": "Python 3",
   "language": "python",
   "name": "python3"
  },
  "language_info": {
   "codemirror_mode": {
    "name": "ipython",
    "version": 3
   },
   "file_extension": ".py",
   "mimetype": "text/x-python",
   "name": "python",
   "nbconvert_exporter": "python",
   "pygments_lexer": "ipython3",
   "version": "3.11.3"
  }
 },
 "nbformat": 4,
 "nbformat_minor": 2
}
